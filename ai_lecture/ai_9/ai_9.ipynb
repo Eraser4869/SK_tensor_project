{
 "cells": [
  {
   "cell_type": "markdown",
   "id": "4f2626fa",
   "metadata": {},
   "source": [
    "# 파일"
   ]
  },
  {
   "cell_type": "code",
   "execution_count": 9,
   "id": "394a5ae9",
   "metadata": {},
   "outputs": [],
   "source": [
    "import requests\n",
    "from io import BytesIO\n",
    "from openai import OpenAI\n",
    "from dotenv import load_dotenv\n",
    "import os\n",
    "\n",
    "load_dotenv()\n",
    "\n",
    "OPENAI_API_KEY = os.getenv('OPENAI_API_KEY')\n",
    "client = OpenAI(api_key=OPENAI_API_KEY)"
   ]
  },
  {
   "cell_type": "code",
   "execution_count": 10,
   "id": "a5c09508",
   "metadata": {},
   "outputs": [],
   "source": [
    "\n",
    "# client = OpenAI()\n",
    "\n",
    "\n",
    "def create_file(client, file_path):\n",
    "    if file_path.startswith(\"http://\") or file_path.startswith(\"https://\"):\n",
    "    # Download the file content from the URL\n",
    "        response = requests.get(file_path)\n",
    "        file_content = BytesIO(response.content)\n",
    "        file_name = file_path.split(\"/\")[-1]\n",
    "        file_tuple = (file_name, file_content)\n",
    "        \n",
    "        result = client.files.create(\n",
    "        file=file_tuple,\n",
    "        purpose=\"assistants\"\n",
    "        )\n",
    "\n",
    "    else:\n",
    "    # Handle local file path\n",
    "        with open(file_path, \"rb\") as file_content:\n",
    "            result = client.files.create(\n",
    "            file=file_content,\n",
    "            purpose=\"assistants\"\n",
    "        )\n",
    "        print(result.id)\n",
    "        return result.id"
   ]
  },
  {
   "cell_type": "code",
   "execution_count": 11,
   "id": "59775e81",
   "metadata": {},
   "outputs": [
    {
     "name": "stdout",
     "output_type": "stream",
     "text": [
      "file-R6p9BtbE1brEHG2U5GPTBu\n"
     ]
    }
   ],
   "source": [
    "# Replace with your own file path or URL\n",
    "file_id = create_file(client, \"./howto-sockets.pdf\")"
   ]
  },
  {
   "cell_type": "code",
   "execution_count": 13,
   "id": "edfd949a",
   "metadata": {},
   "outputs": [
    {
     "name": "stdout",
     "output_type": "stream",
     "text": [
      "vs_685cb6b943708191bbede4e427da22a5\n"
     ]
    }
   ],
   "source": [
    "vector_store = client.vector_stores.create(\n",
    "    name=\"knowledge_base\"\n",
    "    )\n",
    "print(vector_store.id)"
   ]
  },
  {
   "cell_type": "code",
   "execution_count": 14,
   "id": "9761cdb1",
   "metadata": {},
   "outputs": [
    {
     "data": {
      "text/plain": [
       "VectorStoreFile(id='file-R6p9BtbE1brEHG2U5GPTBu', created_at=1750906702, last_error=None, object='vector_store.file', status='in_progress', usage_bytes=0, vector_store_id='vs_685cb6b943708191bbede4e427da22a5', attributes={}, chunking_strategy=StaticFileChunkingStrategyObject(static=StaticFileChunkingStrategy(chunk_overlap_tokens=400, max_chunk_size_tokens=800), type='static'))"
      ]
     },
     "execution_count": 14,
     "metadata": {},
     "output_type": "execute_result"
    }
   ],
   "source": [
    "client.vector_stores.files.create(\n",
    "    vector_store_id=vector_store.id,\n",
    "    file_id=file_id\n",
    "    )"
   ]
  },
  {
   "cell_type": "code",
   "execution_count": 15,
   "id": "c7934135",
   "metadata": {},
   "outputs": [
    {
     "name": "stdout",
     "output_type": "stream",
     "text": [
      "SyncCursorPage[VectorStoreFile](data=[VectorStoreFile(id='file-R6p9BtbE1brEHG2U5GPTBu', created_at=1750906702, last_error=None, object='vector_store.file', status='completed', usage_bytes=29112, vector_store_id='vs_685cb6b943708191bbede4e427da22a5', attributes={}, chunking_strategy=StaticFileChunkingStrategyObject(static=StaticFileChunkingStrategy(chunk_overlap_tokens=400, max_chunk_size_tokens=800), type='static'))], has_more=False, object='list', first_id='file-R6p9BtbE1brEHG2U5GPTBu', last_id='file-R6p9BtbE1brEHG2U5GPTBu')\n"
     ]
    }
   ],
   "source": [
    "result_list = client.vector_stores.files.list(\n",
    "    vector_store_id=vector_store.id\n",
    "    )\n",
    "\n",
    "print(result_list)"
   ]
  },
  {
   "cell_type": "code",
   "execution_count": null,
   "id": "cae8de96",
   "metadata": {},
   "outputs": [],
   "source": []
  }
 ],
 "metadata": {
  "kernelspec": {
   "display_name": ".venv",
   "language": "python",
   "name": "python3"
  },
  "language_info": {
   "codemirror_mode": {
    "name": "ipython",
    "version": 3
   },
   "file_extension": ".py",
   "mimetype": "text/x-python",
   "name": "python",
   "nbconvert_exporter": "python",
   "pygments_lexer": "ipython3",
   "version": "3.9.13"
  }
 },
 "nbformat": 4,
 "nbformat_minor": 5
}
