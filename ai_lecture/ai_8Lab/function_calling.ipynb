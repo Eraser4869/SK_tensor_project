{
 "cells": [
  {
   "cell_type": "markdown",
   "id": "0d028e5d",
   "metadata": {},
   "source": [
    "## 함수호출 하는 챗봇 구성\n",
    "• 임의의 함수를 정의하고 설정해서 응답 메시지 결과에 반영이 되도록 정의\n"
   ]
  },
  {
   "cell_type": "code",
   "execution_count": 1,
   "id": "5ac452bf",
   "metadata": {},
   "outputs": [],
   "source": [
    "from openai import OpenAI\n",
    "from dotenv import load_dotenv\n",
    "import os\n",
    "\n",
    "load_dotenv()\n",
    "\n",
    "OPENAI_API_KEY = os.getenv('OPENAI_API_KEY')\n",
    "client = OpenAI(api_key=OPENAI_API_KEY)"
   ]
  },
  {
   "cell_type": "markdown",
   "id": "4641fca9",
   "metadata": {},
   "source": [
    "### 나이 계산 함수\n",
    "예시: \"1992-05-01생의 만 나이는? <br>\n",
    "함수명: calculate_age 입력: birthdate(문자열, YYYY-MM-DD)"
   ]
  },
  {
   "cell_type": "code",
   "execution_count": 5,
   "id": "65144305",
   "metadata": {},
   "outputs": [],
   "source": [
    "# 함수 정의\n",
    "\n",
    "from datetime import datetime\n",
    "\n",
    "def calculate_age(birthdate):\n",
    "    today = datetime.today()\n",
    "    birth = datetime.strptime(birthdate, \"%Y-%m-%d\")\n",
    "    age = today.year - birth.year\n",
    "    if (today.month, today.day) < (birth.month, birth.day):\n",
    "        age = age-1\n",
    "    return age"
   ]
  },
  {
   "cell_type": "code",
   "execution_count": 7,
   "id": "9f2223e6",
   "metadata": {},
   "outputs": [],
   "source": [
    "# 함수 호출 요청\n",
    "tools = [{\n",
    "    \"type\": \"function\",\n",
    "    \"name\": \"calculate_age\",\n",
    "    \"description\": \"calculate the age based on the provided birthdate\",\n",
    "    \"parameters\": {\n",
    "        \"type\": \"object\",\n",
    "        \"properties\": {\n",
    "            \"birthdate\": {\"type\": \"string\"}\n",
    "        },\n",
    "        \"required\": [\"birthdate\"],\n",
    "        \"additionalProperties\": False\n",
    "    },\n",
    "    \"strict\": True\n",
    "}]\n"
   ]
  },
  {
   "cell_type": "code",
   "execution_count": 8,
   "id": "b20de9ba",
   "metadata": {},
   "outputs": [
    {
     "name": "stdout",
     "output_type": "stream",
     "text": [
      "ResponseFunctionToolCall(arguments='{\"birthdate\":\"1990-05-15\"}', call_id='call_K8pFnebkkvRBDzzJ1MAFeafh', name='calculate_age', type='function_call', id='fc_685c9aba170c819b8e90f689852a3c8f0367bb28caef44d8', status='completed')\n"
     ]
    }
   ],
   "source": [
    "# 응답\n",
    "input_messages = [\n",
    "    {'role': 'user', 'content': '1990-05-15 생의 만 나이는 몇 살인가요?'}\n",
    "]\n",
    "\n",
    "response = client.responses.create(\n",
    "    model='gpt-4.1',\n",
    "    input=input_messages,\n",
    "    tools=tools\n",
    ")\n",
    "print(response.output[0])"
   ]
  },
  {
   "cell_type": "code",
   "execution_count": 9,
   "id": "c68abecb",
   "metadata": {},
   "outputs": [
    {
     "name": "stdout",
     "output_type": "stream",
     "text": [
      "35\n"
     ]
    }
   ],
   "source": [
    "import json\n",
    "\n",
    "# call에 대한 응답 데이터\n",
    "tool_call = response.output[0]\n",
    "\n",
    "args = json.loads(tool_call.arguments)\n",
    "\n",
    "result = calculate_age(args[\"birthdate\"])\n",
    "print(result)\n"
   ]
  },
  {
   "cell_type": "code",
   "execution_count": 10,
   "id": "6268fb22",
   "metadata": {},
   "outputs": [
    {
     "name": "stdout",
     "output_type": "stream",
     "text": [
      "1990년 5월 15일생의 만 나이는 35세입니다.\n"
     ]
    }
   ],
   "source": [
    "input_messages.append(tool_call)\n",
    "\n",
    "input_messages.append(\n",
    "    {\n",
    "        'type': 'function_call_output',\n",
    "        'call_id': tool_call.call_id,\n",
    "        'output': str(result)\n",
    "    }\n",
    ")\n",
    "\n",
    "# 최종 응답\n",
    "response_2 = client.responses.create(\n",
    "    model=\"gpt-4.1\",\n",
    "    input=input_messages,\n",
    "    tools=tools,\n",
    ")\n",
    "print(response_2.output_text)"
   ]
  },
  {
   "cell_type": "markdown",
   "id": "e2f8e17f",
   "metadata": {},
   "source": [
    "### 환율 변환 함수\n",
    "예시: \"100달러를 원화로 바꿔줘 (환율 1330원 적용)\"\n",
    "함수명: convert_currency 입력: amount(숫자)"
   ]
  },
  {
   "cell_type": "code",
   "execution_count": 60,
   "id": "559ae7d8",
   "metadata": {},
   "outputs": [],
   "source": [
    "def convert_currency(amount, from_currency, to_currency, rate):\n",
    "    converted = amount * rate\n",
    "    return {\n",
    "        \"amount\": amount,\n",
    "        \"from_currency\": from_currency,\n",
    "        \"to_currency\": to_currency,\n",
    "        \"rate\": rate,\n",
    "        \"converted_amount\": converted\n",
    "    }"
   ]
  },
  {
   "cell_type": "code",
   "execution_count": 65,
   "id": "9ee35d86",
   "metadata": {},
   "outputs": [
    {
     "name": "stdout",
     "output_type": "stream",
     "text": [
      "ResponseFunctionToolCall(arguments='{\"amount\":100,\"from_currency\":\"USD\",\"to_currency\":\"KRW\",\"rate\":1330}', call_id='call_IegfrtJ6dflnZdzsw42wOitf', name='convert_currency', type='function_call', id='fc_685bf684dfb8819a9ef32a00ca953be00aaba6d39dbb0e26', status='completed')\n"
     ]
    }
   ],
   "source": [
    "tools = [{\n",
    "    \"type\": \"function\",\n",
    "    \"name\": \"convert_currency\",\n",
    "    \"description\": \"calculate the converted amount based on the provided parameters\",\n",
    "    \"parameters\": {\n",
    "        \"type\": \"object\",\n",
    "        \"properties\": {\n",
    "            \"amount\" : {\"type\":\"number\"},\n",
    "            \"from_currency\" : {\"type\":\"string\"},\n",
    "            \"to_currency\" : {\"type\":\"string\"},\n",
    "            \"rate\" : {\"type\":\"number\"}\n",
    "        },\n",
    "        \"required\": [\"amount\", \"from_currency\", \"to_currency\", \"rate\"],\n",
    "        \"additionalProperties\": False\n",
    "    },\n",
    "    \"strict\": True\n",
    "}]\n",
    "\n",
    "input_messages = [\n",
    "    {'role': 'user', 'content': '100달러를 원화로 바꿔줘 (환율 1330원 적용)'}\n",
    "]\n",
    "\n",
    "response = client.responses.create(\n",
    "    model='gpt-4.1',\n",
    "    input=input_messages,\n",
    "    tools=tools\n",
    ")\n",
    "\n",
    "print(response.output[0])"
   ]
  },
  {
   "cell_type": "code",
   "execution_count": 66,
   "id": "f66d4917",
   "metadata": {},
   "outputs": [
    {
     "name": "stdout",
     "output_type": "stream",
     "text": [
      "100달러를 1330원의 환율로 원화로 바꾸면 133,000원이 됩니다.\n"
     ]
    }
   ],
   "source": [
    "import json\n",
    "\n",
    "tool_call = response.output[0]\n",
    "args = json.loads(tool_call.arguments)\n",
    "\n",
    "result = convert_currency(args[\"amount\"], args[\"from_currency\"], args[\"to_currency\"], args[\"rate\"])\n",
    "# print(result)\n",
    "\n",
    "input_messages.append(tool_call)\n",
    "\n",
    "input_messages.append(\n",
    "    {\n",
    "        'type': 'function_call_output',\n",
    "        'call_id': tool_call.call_id,\n",
    "        'output': str(result)\n",
    "    }\n",
    ")\n",
    "\n",
    "# 최종 응답\n",
    "response_2 = client.responses.create(\n",
    "    model=\"gpt-4.1\",\n",
    "    input=input_messages,\n",
    "    tools=tools,\n",
    ")\n",
    "print(response_2.output_text)"
   ]
  },
  {
   "cell_type": "markdown",
   "id": "81773c71",
   "metadata": {},
   "source": [
    "### BMI(체질량지수) 계산 함수\n",
    "예시: \"키 170cm, 몸무게 65kg의 BMI는?“\n",
    "함수명: calculate_bmi 입력: height(숫자, cm), weight(숫자, kg)"
   ]
  },
  {
   "cell_type": "code",
   "execution_count": 67,
   "id": "cd5784c9",
   "metadata": {},
   "outputs": [],
   "source": [
    "def calculate_bmi  (weight, height):\n",
    "    if height <= 0:\n",
    "        return \"Height must be greater than zero.\"\n",
    "    bmi = weight / (height ** 2)\n",
    "    return round(bmi, 2)"
   ]
  },
  {
   "cell_type": "code",
   "execution_count": 68,
   "id": "cf3a97c8",
   "metadata": {},
   "outputs": [],
   "source": [
    "tools = [{\n",
    "    \"type\": \"function\",\n",
    "    \"name\": \"calculate_bmi\",\n",
    "    \"description\": \"calculate the Body Mass Index (BMI) based on weight and height\",\n",
    "    \"parameters\": {\n",
    "        \"type\": \"object\",\n",
    "        \"properties\": {\n",
    "            \"weight\": {\"type\": \"number\"},\n",
    "            \"height\": {\"type\": \"number\"}\n",
    "        },\n",
    "        \"required\": [\"weight\", \"height\"],\n",
    "        \"additionalProperties\": False\n",
    "    },\n",
    "    \"strict\": True\n",
    "}]"
   ]
  },
  {
   "cell_type": "code",
   "execution_count": 69,
   "id": "14600eff",
   "metadata": {},
   "outputs": [
    {
     "name": "stdout",
     "output_type": "stream",
     "text": [
      "ResponseFunctionToolCall(arguments='{\"weight\":65,\"height\":170}', call_id='call_oA4e47mmpN47iPSilGK82SsE', name='calculate_bmi', type='function_call', id='fc_685bf72bb6a0819abb8f6b031d930b2f02e32f6ec76e3ccd', status='completed')\n"
     ]
    }
   ],
   "source": [
    "input_messages = [\n",
    "    {'role': 'user', 'content': '키 170cm, 몸무게 65kg의 BMI는?'}\n",
    "]\n",
    "\n",
    "response = client.responses.create(\n",
    "    model='gpt-4.1',\n",
    "    input=input_messages,\n",
    "    tools=tools\n",
    ")\n",
    "\n",
    "print(response.output[0])"
   ]
  },
  {
   "cell_type": "code",
   "execution_count": 71,
   "id": "94d2c4e5",
   "metadata": {},
   "outputs": [
    {
     "name": "stdout",
     "output_type": "stream",
     "text": [
      "키 170cm, 몸무게 65kg의 BMI는 22.5입니다.\n",
      "\n",
      "BMI 계산 공식: (몸무게(kg)) ÷ (키(m) × 키(m))\n",
      "계산 과정: 65 ÷ (1.7 × 1.7) = 22.5\n",
      "\n",
      "이 수치는 정상 체중 범위에 해당합니다.\n"
     ]
    }
   ],
   "source": [
    "import json\n",
    "\n",
    "tool_call = response.output[0]\n",
    "args = json.loads(tool_call.arguments)\n",
    "\n",
    "result = calculate_bmi(args[\"weight\"], args[\"height\"])\n",
    "# print(result)\n",
    "\n",
    "input_messages.append(tool_call)\n",
    "\n",
    "input_messages.append(\n",
    "    {\n",
    "        'type': 'function_call_output',\n",
    "        'call_id': tool_call.call_id,\n",
    "        'output': str(result)\n",
    "    }\n",
    ")\n",
    "\n",
    "# 최종 응답\n",
    "response_2 = client.responses.create(\n",
    "    model=\"gpt-4.1\",\n",
    "    input=input_messages,\n",
    "    tools=tools,\n",
    ")\n",
    "print(response_2.output_text)"
   ]
  },
  {
   "cell_type": "markdown",
   "id": "c72512a8",
   "metadata": {},
   "source": [
    "# 함수 분리 버전"
   ]
  },
  {
   "cell_type": "code",
   "execution_count": 2,
   "id": "107115a3",
   "metadata": {},
   "outputs": [],
   "source": [
    "from tools.basic_tools import calculate_age, convert_currrency2,  calculate_bmi"
   ]
  },
  {
   "cell_type": "code",
   "execution_count": 3,
   "id": "97a4a92d",
   "metadata": {},
   "outputs": [],
   "source": [
    "fn_tools = [{\n",
    "    \"type\": \"function\",\n",
    "    \"name\": \"calculate_age\",\n",
    "    \"description\": \"calculate the age based on the provided birthdate\",\n",
    "    \"parameters\": {\n",
    "        \"type\": \"object\",\n",
    "        \"properties\": {\n",
    "            \"birthdate\": {\"type\": \"string\", \"description\": \"format: YYYY-MM-DD\"}\n",
    "        },\n",
    "        \"required\": [\"birthdate\"],\n",
    "        \"additionalProperties\": False\n",
    "    },\n",
    "    \"strict\": True\n",
    "},\n",
    "{\n",
    "    \"type\": \"function\",\n",
    "    \"name\": \"convert_currency2\",\n",
    "    \"description\": \"calculate the converted amount based on the provided parameters\",\n",
    "    \"parameters\": {\n",
    "        \"type\": \"object\",\n",
    "        \"properties\": {\n",
    "            \"amount\" : {\"type\":\"number\"}\n",
    "        },\n",
    "        \"required\": [\"amount\"],\n",
    "        \"additionalProperties\": False\n",
    "    },\n",
    "    \"strict\": True\n",
    "},\n",
    "{\n",
    "    \"type\": \"function\",\n",
    "    \"name\": \"calculate_bmi\",\n",
    "    \"description\": \"calculate the Body Mass Index (BMI) based on weight and height by user input\",\n",
    "    \"parameters\": {\n",
    "        \"type\": \"object\",\n",
    "        \"properties\": {\n",
    "            \"weight\": {\"type\": \"number\"},\n",
    "            \"height\": {\"type\": \"number\"}\n",
    "        },\n",
    "        \"required\": [\"weight\", \"height\"],\n",
    "        \"additionalProperties\": False\n",
    "    },\n",
    "    \"strict\": True\n",
    "}\n",
    "\n",
    "]"
   ]
  },
  {
   "cell_type": "code",
   "execution_count": 8,
   "id": "16fe41eb",
   "metadata": {},
   "outputs": [
    {
     "name": "stdout",
     "output_type": "stream",
     "text": [
      "[ResponseFunctionToolCall(arguments='{\"birthdate\":\"1999-09-09\"}', call_id='call_G1AEbitFtwE3Dy2Quf3CujPz', name='calculate_age', type='function_call', id='fc_685cadd188308199afbb0efbc95f556f0d1775b69cf9a83c', status='completed'), ResponseFunctionToolCall(arguments='{\"amount\":100}', call_id='call_miO6xEGtFKUKeaPzk4yLxaxM', name='convert_currency2', type='function_call', id='fc_685cadd1c2c08199ae3f46bdd700774e0d1775b69cf9a83c', status='completed'), ResponseFunctionToolCall(arguments='{\"weight\":80,\"height\":180}', call_id='call_4cAZX29xbAE0vFczyEnneE7p', name='calculate_bmi', type='function_call', id='fc_685cadd1e8d48199a2e5c1964446b8f00d1775b69cf9a83c', status='completed')]\n",
      "\n",
      "\n"
     ]
    }
   ],
   "source": [
    "input_messages = [\n",
    "    {\n",
    "        \"role\": \"user\",\n",
    "        \"content\": \"my birth day is 1999-09-09, I have 100 USD, I want you to convert this in korean won. and my height is 180cm and my weight is 80kg. tell me my bmi.\"\n",
    "\n",
    "    }\n",
    "\n",
    "]\n",
    "\n",
    "response = client.responses.create(\n",
    "    model='gpt-4.1',\n",
    "    input=input_messages,\n",
    "    tools=fn_tools\n",
    ")\n",
    "\n",
    "\n",
    "print(response.output)\n",
    "print()\n",
    "print(response.output_text)"
   ]
  },
  {
   "cell_type": "code",
   "execution_count": 9,
   "id": "9ee1f1f5",
   "metadata": {},
   "outputs": [
    {
     "name": "stdout",
     "output_type": "stream",
     "text": [
      "호출 도구:  calculate_age\n",
      "매개변수:  {\"birthdate\":\"1999-09-09\"}\n",
      "호출 도구:  convert_currency2\n",
      "매개변수:  {\"amount\":100}\n",
      "호출 도구:  calculate_bmi\n",
      "매개변수:  {\"weight\":80,\"height\":180}\n",
      "[{'role': 'user', 'content': 'my birth day is 1999-09-09, I have 100 USD, I want you to convert this in korean won. and my height is 180cm and my weight is 80kg. tell me my bmi.'}, ResponseFunctionToolCall(arguments='{\"birthdate\":\"1999-09-09\"}', call_id='call_G1AEbitFtwE3Dy2Quf3CujPz', name='calculate_age', type='function_call', id='fc_685cadd188308199afbb0efbc95f556f0d1775b69cf9a83c', status='completed'), {'type': 'function_call_output', 'call_id': 'call_G1AEbitFtwE3Dy2Quf3CujPz', 'output': '25'}, ResponseFunctionToolCall(arguments='{\"amount\":100}', call_id='call_miO6xEGtFKUKeaPzk4yLxaxM', name='convert_currency2', type='function_call', id='fc_685cadd1c2c08199ae3f46bdd700774e0d1775b69cf9a83c', status='completed'), {'type': 'function_call_output', 'call_id': 'call_miO6xEGtFKUKeaPzk4yLxaxM', 'output': '133000'}, ResponseFunctionToolCall(arguments='{\"weight\":80,\"height\":180}', call_id='call_4cAZX29xbAE0vFczyEnneE7p', name='calculate_bmi', type='function_call', id='fc_685cadd1e8d48199a2e5c1964446b8f00d1775b69cf9a83c', status='completed'), {'type': 'function_call_output', 'call_id': 'call_4cAZX29xbAE0vFczyEnneE7p', 'output': '0.0'}]\n"
     ]
    }
   ],
   "source": [
    "import json\n",
    "\n",
    "if response.output:\n",
    "    for tool_call in response.output:\n",
    "        if tool_call.type == 'function_call':\n",
    "            if tool_call.name == 'calculate_age':\n",
    "                print('호출 도구: ', tool_call.name)\n",
    "                print('매개변수: ', tool_call.arguments)\n",
    "                # 메게변수 추출\n",
    "                args = json.loads(tool_call.arguments)\n",
    "                # 함수 실행 결과\n",
    "                result = calculate_age(args['birthdate'])\n",
    "\n",
    "                input_messages.append(tool_call)\n",
    "                input_messages.append({\n",
    "                    \"type\": \"function_call_output\",\n",
    "                    \"call_id\": tool_call.call_id,\n",
    "                    \"output\": str(result)\n",
    "                })\n",
    "\n",
    "            \n",
    "            if tool_call.name == 'convert_currency2':\n",
    "                print('호출 도구: ', tool_call.name)\n",
    "                print('매개변수: ', tool_call.arguments)\n",
    "                # 메게변수 추출\n",
    "                args = json.loads(tool_call.arguments)\n",
    "                # 함수 실행 결과\n",
    "                result = convert_currrency2(args['amount'])\n",
    "\n",
    "                input_messages.append(tool_call)\n",
    "                input_messages.append({\n",
    "                    \"type\": \"function_call_output\",\n",
    "                    \"call_id\": tool_call.call_id,\n",
    "                    \"output\": str(result)\n",
    "                })\n",
    "\n",
    "\n",
    "            if tool_call.name == 'calculate_bmi':\n",
    "                print('호출 도구: ', tool_call.name)\n",
    "                print('매개변수: ', tool_call.arguments)\n",
    "                # 메게변수 추출\n",
    "                args = json.loads(tool_call.arguments)\n",
    "                # 함수 실행 결과\n",
    "                result = calculate_bmi(args['weight'], args['height'])\n",
    "\n",
    "                input_messages.append(tool_call)\n",
    "                input_messages.append({\n",
    "                    \"type\": \"function_call_output\",\n",
    "                    \"call_id\": tool_call.call_id,\n",
    "                    \"output\": str(result)\n",
    "                })\n",
    "                \n",
    "print(input_messages)\n"
   ]
  },
  {
   "cell_type": "code",
   "execution_count": 10,
   "id": "999cc948",
   "metadata": {},
   "outputs": [
    {
     "name": "stdout",
     "output_type": "stream",
     "text": [
      "Here are your requested details:\n",
      "\n",
      "- Your age: 25 years old\n",
      "- 100 USD is approximately 133,000 Korean Won (KRW)\n",
      "- Your BMI (Body Mass Index) is 24.7 (Healthy weight range)\n",
      "\n",
      "If you need further information or interpretation, let me know!\n"
     ]
    }
   ],
   "source": [
    "response2_msg = client.responses.create(\n",
    "    model = 'gpt-4.1',\n",
    "    input=input_messages,\n",
    "    tools=fn_tools\n",
    ")\n",
    "\n",
    "print(response2_msg.output_text)"
   ]
  }
 ],
 "metadata": {
  "kernelspec": {
   "display_name": ".venv",
   "language": "python",
   "name": "python3"
  },
  "language_info": {
   "codemirror_mode": {
    "name": "ipython",
    "version": 3
   },
   "file_extension": ".py",
   "mimetype": "text/x-python",
   "name": "python",
   "nbconvert_exporter": "python",
   "pygments_lexer": "ipython3",
   "version": "3.9.13"
  }
 },
 "nbformat": 4,
 "nbformat_minor": 5
}
